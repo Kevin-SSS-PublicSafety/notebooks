{
 "cells": [
  {
   "cell_type": "markdown",
   "id": "e35724ae-bff8-46da-a3d3-41b0a3be0d54",
   "metadata": {},
   "source": [
    "## Jupyter Demo\n",
    "\n",
    "<div class=\"alert alert-block alert-info\">notebook to demonstrate basic notebook functionality</div>\n",
    "\n",
    "https://www.geeksforgeeks.org/markdown-cell-in-jupyter-notebook/"
   ]
  },
  {
   "cell_type": "markdown",
   "id": "5f3c20bc-72b3-4173-9f94-6f559c17900c",
   "metadata": {
    "tags": []
   },
   "source": [
    "#### sub heading\n",
    "\n",
    "> a bullet point\n"
   ]
  },
  {
   "cell_type": "code",
   "execution_count": null,
   "id": "cf9ec4bd-385f-4d32-b8be-58e931052ad7",
   "metadata": {},
   "outputs": [],
   "source": [
    "!py -m pip install matplotlib\n"
   ]
  },
  {
   "cell_type": "code",
   "execution_count": null,
   "id": "62270fe0-5ff0-4648-be4b-e3787bb9132e",
   "metadata": {},
   "outputs": [],
   "source": []
  },
  {
   "cell_type": "code",
   "execution_count": null,
   "id": "070f8151-4b32-4efb-b852-72fd54eaf114",
   "metadata": {},
   "outputs": [],
   "source": [
    "print ('hello world')\n",
    "      "
   ]
  },
  {
   "cell_type": "code",
   "execution_count": null,
   "id": "9e91e942-417c-41e8-a616-193aa533dc04",
   "metadata": {},
   "outputs": [],
   "source": [
    "!py --version"
   ]
  },
  {
   "cell_type": "code",
   "execution_count": null,
   "id": "0263f5f7-d590-4885-b306-249315cb6cc8",
   "metadata": {},
   "outputs": [],
   "source": [
    "!py -m pip list"
   ]
  },
  {
   "cell_type": "code",
   "execution_count": null,
   "id": "ce217a7d-4f8a-49c8-8b6c-29b49b22fb50",
   "metadata": {},
   "outputs": [],
   "source": [
    "import numpy as np\n",
    "from matplotlib import pyplot as plt\n",
    "\n",
    "x = np.linspace(0, 10, 1000)\n",
    "plt.plot(x, np.sin(x))\n",
    "\n",
    "plt.show()\n",
    "\n"
   ]
  },
  {
   "cell_type": "markdown",
   "id": "852e0d79-1249-445e-be58-3ab9b1fcc802",
   "metadata": {},
   "source": [
    "### ipython magic. \n",
    "ipython is descibed as a kernel and a shell. it originally served as a command shell for notebooks (were called ipython notebooks) it now provides a python kernel for notebooks - but note that other kernels can be used, either python kernels or for other languages.\n",
    "\n",
    "https://ipython.org/\n"
   ]
  },
  {
   "cell_type": "code",
   "execution_count": null,
   "id": "3e0b8634-6067-4734-a40c-2430fa80ac28",
   "metadata": {},
   "outputs": [],
   "source": [
    "%pwd"
   ]
  },
  {
   "cell_type": "markdown",
   "id": "671cd3ab-a9b8-4bcd-907d-7cca8f166ac5",
   "metadata": {
    "tags": []
   },
   "source": [
    "## Database stuff\n",
    "\n",
    "> use sqlalchemy 1.4"
   ]
  },
  {
   "cell_type": "markdown",
   "id": "ef8619ca-1983-4ef9-84fc-dec7d0950019",
   "metadata": {},
   "source": [
    "#### Required packages"
   ]
  },
  {
   "cell_type": "code",
   "execution_count": 11,
   "id": "8b7e4908-7baa-49dc-bd69-30ca20fe0c14",
   "metadata": {},
   "outputs": [
    {
     "name": "stdout",
     "output_type": "stream",
     "text": [
      "Requirement already satisfied: sqlalchemy in c:\\users\\p50096955\\appdata\\local\\programs\\python\\python311\\lib\\site-packages (1.4.46)\n",
      "Requirement already satisfied: greenlet!=0.4.17 in c:\\users\\p50096955\\appdata\\local\\programs\\python\\python311\\lib\\site-packages (from sqlalchemy) (2.0.1)\n",
      "Requirement already satisfied: pyodbc in c:\\users\\p50096955\\appdata\\local\\programs\\python\\python311\\lib\\site-packages (4.0.35)\n"
     ]
    }
   ],
   "source": [
    "!py -m pip install sqlalchemy\n",
    "!py -m pip install pyodbc"
   ]
  },
  {
   "cell_type": "markdown",
   "id": "18bdbf7e-35e9-4779-8ccf-9b0429627aa6",
   "metadata": {},
   "source": [
    "#### Create sqlalchemy engine \n",
    "> use https://docs.sqlalchemy.org/en/14/dialects/mssql.html#module-sqlalchemy.dialects.mssql.pyodbc"
   ]
  },
  {
   "cell_type": "code",
   "execution_count": 12,
   "id": "fd1b17bd-de2c-439e-be61-42c96a84dbb5",
   "metadata": {},
   "outputs": [],
   "source": [
    "from sqlalchemy import create_engine\n",
    "\n",
    "params =  'DRIVER={SQL Server};' \\\n",
    "          'SERVER=V-PW-DEVDB05.lab.stl.local\\CRM2016;' \\\n",
    "          'DATABASE=POLCASE_MSCRM;' \\\n",
    "          'Trusted_Connection=yes;'\n",
    "\n",
    "conn_str = 'mssql+pyodbc:///?odbc_connect={}'.format(params)\n",
    "engine = create_engine(conn_str)\n"
   ]
  },
  {
   "cell_type": "markdown",
   "id": "7d0c429d-26a7-45f9-ab32-558db33ef18f",
   "metadata": {},
   "source": [
    "#### connect and execute sql"
   ]
  },
  {
   "cell_type": "code",
   "execution_count": 13,
   "id": "d0ef9aa8-f201-4a21-9c80-23dcb7f2a144",
   "metadata": {
    "tags": []
   },
   "outputs": [
    {
     "name": "stdout",
     "output_type": "stream",
     "text": [
      "(None, None, None, None, None, 'POLCASE', None, 'lab\\\\PwDevCrmAdm lab\\\\PwDevCrmAdm', 'lab\\\\PwDevCrmAdm lab\\\\PwDevCrmAdm', None, 'lab\\\\PwDevCrmAdm lab\\\\PwDevCrmAdm', 'lab\\\\PwDevCrmAdm lab\\\\PwDevCrmAdm', None, None, None, None, None, None, None, None, None, None, '77EC2DB6-E617-ED11-8135-005056A255B2', datetime.datetime(2022, 8, 9, 13, 25, 27), 'F95D380A-D817-ED11-8135-005056A255B2', datetime.datetime(2022, 8, 9, 13, 27, 49), 'F95D380A-D817-ED11-8135-005056A255B2', None, None, '0D2EFC7D-B5ED-4038-AA8D-0C5FF608CDB5', 0, 1, b'\\x00\\x00\\x00\\x00\\x00\\x104v', None, None, None, None, 'Beat K2Q1 -  K2 Smithills North', None, None, None, None, None, None, None, 'K2Q1', None, None, None, None, None, 100002005, None, 100002003, None, 'Smithills North', None, None, 100002004, 'K2', None, None, None, None, None, False, None, None, None, 100005000, None, None, 100005503, None, None, None, None, None, False, None, None, None, None, None, None)\n",
      " \n",
      "(None, None, None, None, None, 'POLCASE', None, 'lab\\\\PwDevCrmAdm lab\\\\PwDevCrmAdm', 'lab\\\\PwDevCrmAdm lab\\\\PwDevCrmAdm', None, 'lab\\\\PwDevCrmAdm lab\\\\PwDevCrmAdm', 'lab\\\\PwDevCrmAdm lab\\\\PwDevCrmAdm', None, None, None, None, None, None, None, None, None, None, '7BEC2DB6-E617-ED11-8135-005056A255B2', datetime.datetime(2022, 8, 9, 13, 25, 27), 'F95D380A-D817-ED11-8135-005056A255B2', datetime.datetime(2022, 8, 9, 13, 27, 49), 'F95D380A-D817-ED11-8135-005056A255B2', None, None, '0D2EFC7D-B5ED-4038-AA8D-0C5FF608CDB5', 0, 1, b'\\x00\\x00\\x00\\x00\\x00\\x104z', None, None, None, None, 'Beat K2Q2 -  K2 Smithills South', None, None, None, None, None, None, None, 'K2Q2', None, None, None, None, None, 100002005, None, 100002003, None, 'Smithills South', None, None, 100002004, 'K2', None, None, None, None, None, False, None, None, None, 100005000, None, None, 100005503, None, None, None, None, None, False, None, None, None, None, None, None)\n",
      " \n",
      "(None, None, None, None, None, 'POLCASE', None, 'lab\\\\PwDevCrmAdm lab\\\\PwDevCrmAdm', 'lab\\\\PwDevCrmAdm lab\\\\PwDevCrmAdm', None, 'lab\\\\PwDevCrmAdm lab\\\\PwDevCrmAdm', 'lab\\\\PwDevCrmAdm lab\\\\PwDevCrmAdm', None, None, None, None, None, None, None, None, None, None, '67F833C2-E617-ED11-8135-005056A255B2', datetime.datetime(2022, 8, 9, 13, 25, 42), 'F95D380A-D817-ED11-8135-005056A255B2', datetime.datetime(2022, 8, 9, 13, 27, 56), 'F95D380A-D817-ED11-8135-005056A255B2', None, None, '0D2EFC7D-B5ED-4038-AA8D-0C5FF608CDB5', 0, 1, b'\\x00\\x00\\x00\\x00\\x00\\x105\\xa5', None, None, None, None, 'Beat P2R6 -  P2 Smithybridge', None, None, None, None, None, None, None, 'P2R6', None, None, None, None, None, 100002005, None, 100002003, None, 'Smithybridge', None, None, 100002004, 'P2', None, None, None, None, None, False, None, None, None, 100005000, None, None, 100005503, None, None, None, None, None, False, None, None, None, None, None, None)\n",
      " \n",
      "(None, None, None, None, None, 'POLCASE', None, 'lab\\\\PwDevCrmAdm lab\\\\PwDevCrmAdm', 'lab\\\\PwDevCrmAdm lab\\\\PwDevCrmAdm', None, 'lab\\\\PwDevCrmAdm lab\\\\PwDevCrmAdm', 'lab\\\\PwDevCrmAdm lab\\\\PwDevCrmAdm', None, None, None, None, None, None, None, 'Steve Smith AD', 'Steve Smith AD', None, '98498461-5AAD-46F1-962C-15A43DFF70E6', datetime.datetime(2022, 8, 9, 13, 2, 49), 'F95D380A-D817-ED11-8135-005056A255B2', datetime.datetime(2022, 8, 9, 13, 3, 9), 'F95D380A-D817-ED11-8135-005056A255B2', None, None, '0D2EFC7D-B5ED-4038-AA8D-0C5FF608CDB5', 0, 1, b'\\x00\\x00\\x00\\x00\\x00\\x0e\\xa8x', None, None, None, None, 'Officer Officer Record: Smith AD', None, None, None, None, None, None, None, None, None, None, None, None, None, 100002005, None, 100002003, None, 'Smith AD', None, None, 100002004, 'Steve', None, None, None, None, None, False, None, None, None, 100005000, None, 'A6ABBB80-E317-ED11-8135-005056A255B2', 100005500, None, None, None, None, None, False, None, None, None, None, None, None)\n",
      " \n",
      "(None, None, None, None, None, 'POLCASE', None, 'Kevin Griffiths', 'Kevin Griffiths', None, 'Kevin Griffiths', 'Kevin Griffiths', None, 'ETHCAPP-1', 'ETHCSACD-W1', 'GENDER-M', None, None, None, None, None, None, '7CCFDB29-7A78-4FCB-BC6E-80EF6FF2B8A1', datetime.datetime(2022, 12, 23, 9, 21, 57), '357F1A88-8663-ED11-813B-005056A255B2', datetime.datetime(2022, 12, 23, 15, 7, 13), '357F1A88-8663-ED11-813B-005056A255B2', None, None, '0D2EFC7D-B5ED-4038-AA8D-0C5FF608CDB5', 0, 1, b'\\x00\\x00\\x00\\x00\\x00\\x15>\\xea', None, None, 0, 85, 'Person 23/12/2022 09:24:18SMITH', None, None, 1990, None, None, datetime.datetime(1990, 7, 14, 0, 0), None, None, None, None, datetime.datetime(2022, 12, 23, 9, 24, 18), None, '0D3F44BF-B941-E111-AD9F-005056AC006E', 100002005, 'CEBC5191-D7D3-E011-9C01-005056AC006E', 100002003, None, 'SMITH', None, '7A5C5746-2BF0-E011-A050-005056AC006E', 100002004, 'Fred', None, None, None, None, None, False, None, None, None, 100005000, None, None, 100005500, 'Bury St Edmunds', None, None, None, None, False, None, None, None, 'Mr', None, None)\n",
      " \n"
     ]
    },
    {
     "name": "stderr",
     "output_type": "stream",
     "text": [
      "C:\\Users\\p50096955\\AppData\\Local\\Temp\\ipykernel_24508\\1443896992.py:4: RemovedIn20Warning: Deprecated API features detected! These feature(s) are not compatible with SQLAlchemy 2.0. To prevent incompatible upgrades prior to updating applications, ensure requirements files are pinned to \"sqlalchemy<2.0\". Set environment variable SQLALCHEMY_WARN_20=1 to show all deprecation warnings.  Set environment variable SQLALCHEMY_SILENCE_UBER_WARNING=1 to silence this message. (Background on SQLAlchemy 2.0 at: https://sqlalche.me/e/b8d9)\n",
      "  result = conn.execute(sql_text)\n"
     ]
    }
   ],
   "source": [
    "sql_text = \" SELECT TOP (1000) * FROM [POLCASE_MSCRM].[dbo].[stl_person] where stl_familyname like '%Smith%'\"\n",
    "\n",
    "conn = engine.connect()\n",
    "result = conn.execute(sql_text)\n",
    "for row in result:\n",
    "    print(row)\n",
    "    print(' ')\n",
    "conn.close()\n",
    "    "
   ]
  },
  {
   "cell_type": "markdown",
   "id": "50339fdd-51e1-4c61-b3f4-3d6ac37c3cb8",
   "metadata": {},
   "source": [
    "#### use \"with\""
   ]
  },
  {
   "cell_type": "code",
   "execution_count": 14,
   "id": "168bcb36-9e6d-464f-b527-e68f71db9341",
   "metadata": {},
   "outputs": [
    {
     "name": "stdout",
     "output_type": "stream",
     "text": [
      "stl_name: Officer Officer Record: Griffiths\n",
      "\n",
      "('Kevin Griffiths', 'Kevin Griffiths', None, 'Officer Officer Record: Griffiths', None, 'Officer Officer Record: Griffiths', 'Officer Officer Record: Griffiths', 'Officer Officer Record: Griffiths', 'Officer Officer Record: Griffiths', None, None, 'Arrival Detention Event 12345', None, None, None, 'Kevin Griffiths', 'Kevin Griffiths', None, 'Officer Officer Record: Griffiths', '357F1A88-8663-ED11-813B-005056A255B2', 'Kevin Griffiths', 'Kevin Griffiths', 0, 8, '357F1A88-8663-ED11-813B-005056A255B2', None, '650C4F92-C564-ED11-813C-005056A255B2', datetime.datetime(2022, 11, 15, 9, 12, 5), '357F1A88-8663-ED11-813B-005056A255B2', datetime.datetime(2022, 11, 15, 9, 12, 5), '357F1A88-8663-ED11-813B-005056A255B2', None, None, '563C380A-D817-ED11-8135-005056A255B2', 0, 1, b'\\x00\\x00\\x00\\x00\\x00\\x152\\xa5', None, None, None, None, '12345', None, 100002024, None, None, None, 100002025, 'E51587E2-239D-4FE4-9D68-86E63B1D5737', 'E51587E2-239D-4FE4-9D68-86E63B1D5737', '6D3D5CD0-5FA2-4936-A3EE-643A335022F2', None, None, None, False, None, 'E51587E2-239D-4FE4-9D68-86E63B1D5737', 'E51587E2-239D-4FE4-9D68-86E63B1D5737', 'E51587E2-239D-4FE4-9D68-86E63B1D5737', 100002023, None, 'E51587E2-239D-4FE4-9D68-86E63B1D5737', False)\n",
      "\n",
      "stl_name: Officer Officer Record: Griffiths\n",
      "\n",
      "('Kevin Griffiths', 'Kevin Griffiths', None, None, None, None, None, 'City of Manchester Division', None, 'lab\\\\PwDevCrmAdm lab\\\\PwDevCrmAdm', 'lab\\\\PwDevCrmAdm lab\\\\PwDevCrmAdm', 'New Case Event 06/AA/00002/22', None, None, None, 'Kevin Griffiths', 'Kevin Griffiths', 'FILESTAT-PROC', 'Officer Officer Record: Griffiths', '357F1A88-8663-ED11-813B-005056A255B2', 'Kevin Griffiths', 'Kevin Griffiths', 0, 8, '357F1A88-8663-ED11-813B-005056A255B2', None, '4896CE82-1C5B-4873-8E3A-B2A889D6EF0E', datetime.datetime(2022, 12, 21, 16, 50, 3), '357F1A88-8663-ED11-813B-005056A255B2', datetime.datetime(2022, 12, 21, 16, 50, 7), '357F1A88-8663-ED11-813B-005056A255B2', 'F95D380A-D817-ED11-8135-005056A255B2', None, '563C380A-D817-ED11-8135-005056A255B2', 0, 1, b'\\x00\\x00\\x00\\x00\\x00\\x15=\\xcc', None, None, None, None, '06/AA/00002/22', 'E29C16FD-6517-E111-B8A6-005056AC006E', 100002024, None, None, None, 100002025, None, '0DB6177C-D3D6-E811-80DF-005056A20A1F', '49C5AD83-10D1-4536-9C6E-503355F2ACEF', None, None, None, False, None, 'E51587E2-239D-4FE4-9D68-86E63B1D5737', None, None, 100002023, None, None, False)\n",
      "\n",
      "stl_name: Officer Officer Record: Griffiths\n",
      "\n",
      "('Kevin Griffiths', 'Kevin Griffiths', None, None, None, None, None, 'Airport Division', None, None, None, 'New Case Event 06/II/00001/22', None, None, None, 'Kevin Griffiths', 'Kevin Griffiths', 'FILESTAT-PROC', 'Officer Officer Record: Griffiths', '357F1A88-8663-ED11-813B-005056A255B2', 'Kevin Griffiths', 'Kevin Griffiths', 0, 8, '357F1A88-8663-ED11-813B-005056A255B2', None, '2AEE9E70-5943-41D2-BD8A-C7DDFEEB1BDC', datetime.datetime(2022, 12, 22, 9, 52, 6), '357F1A88-8663-ED11-813B-005056A255B2', datetime.datetime(2022, 12, 22, 9, 52, 7), '357F1A88-8663-ED11-813B-005056A255B2', None, None, '563C380A-D817-ED11-8135-005056A255B2', 0, 1, b'\\x00\\x00\\x00\\x00\\x00\\x15=\\xea', None, None, None, None, '06/II/00001/22', 'E29C16FD-6517-E111-B8A6-005056AC006E', 100002024, None, None, None, 100002025, None, 'EAB5177C-D3D6-E811-80DF-005056A20A1F', '57D63BEC-FC64-4C72-9948-7D87B944EA70', None, None, None, False, None, 'E51587E2-239D-4FE4-9D68-86E63B1D5737', None, None, 100002023, None, None, False)\n",
      "\n"
     ]
    }
   ],
   "source": [
    "sql_text = \" SELECT TOP (1000) * FROM [POLCASE_MSCRM].[dbo].[stl_case] where stl_OfficerInCaseName like '%Griffiths%'\"\n",
    "with engine.connect() as connection:\n",
    "    result = connection.execute(sql_text)\n",
    "    for row in result:\n",
    "        print(\"stl_name:\", row['stl_OfficerInCaseName'])\n",
    "        print('')\n",
    "        print(row)\n",
    "        print('')"
   ]
  },
  {
   "cell_type": "markdown",
   "id": "b7ed05a8-2f61-4494-a8a7-5d06f3772bcc",
   "metadata": {},
   "source": [
    "#### parameters"
   ]
  },
  {
   "cell_type": "code",
   "execution_count": 15,
   "id": "920b2f36-d51c-4397-9d9b-fb392e662673",
   "metadata": {},
   "outputs": [
    {
     "name": "stdout",
     "output_type": "stream",
     "text": [
      "('Missing person management group', 'Missing person management group', None)\n",
      "('Missing person SPOC group', 'Missing person SPOC group', None)\n",
      "('NominalPerson: 100005500: 637974631144078903: HOPE', 'HOPE', 'Noah')\n",
      "('NominalPerson: 100005500: 637976489267719473: HOPE', 'HOPE', 'Noah')\n",
      "('NominalPerson: 100005500: 637976490344515988: HOPE', 'HOPE', 'Noah')\n",
      "('NominalPerson: 100005500: 637976493398304681: HOPE', 'HOPE', 'Noah')\n",
      "('NominalPerson: 100005500: 637976508772021102: HOPE', 'HOPE', 'Noah')\n",
      "('NominalPerson: 100005500: 637976511159460009: HOPE', 'HOPE', 'Noah')\n",
      "('NominalPerson: 100005500: 637976516674262539: HOPE', 'HOPE', 'Noah')\n",
      "('NominalPerson: 100005500: 637977236823672822: HOPE', 'HOPE', 'Summer')\n",
      "('OrganisationPerson: 100005501: 637977238400460376: SummerHope Ltd', 'SummerHope Ltd', None)\n",
      "('OrganisationPerson: 100005515: 636680496547239247: HMP Manchester', 'HMP Manchester', None)\n",
      "('OrganisationPerson: 100005515: 636680502816096070: HMP Forest Bank', 'HMP Forest Bank', None)\n",
      "('Person 01/09/2022 09:28:20SIMPSON', 'SIMPSON', 'Bart')\n",
      "('Person 12/08/2022 15:58:13SIMPSON', 'SIMPSON', 'Homer')\n"
     ]
    }
   ],
   "source": [
    "\n",
    "from sqlalchemy import text\n",
    "\n",
    "sql_query = text(\"SELECT TOP (1000) stl_name, stl_FamilyName, stl_GivenName1 FROM [POLCASE_MSCRM].[dbo].[stl_person] where stl_FamilyName like :familyname and stl_name like :name\")\n",
    "\n",
    "with engine.connect() as connection:\n",
    "    result = connection.execute(sql_query, familyname=\"%p%\", name=\"%Person%\")\n",
    "    for row in result:\n",
    "        print(row)"
   ]
  },
  {
   "cell_type": "markdown",
   "id": "a6a7bed9-0e2d-4d23-b362-18cad4712aac",
   "metadata": {},
   "source": [
    "#### use pandas"
   ]
  },
  {
   "cell_type": "code",
   "execution_count": 16,
   "id": "c07d0a5f-ad0a-4749-8c89-c59ffdef7a37",
   "metadata": {},
   "outputs": [
    {
     "data": {
      "text/html": [
       "<div>\n",
       "<style scoped>\n",
       "    .dataframe tbody tr th:only-of-type {\n",
       "        vertical-align: middle;\n",
       "    }\n",
       "\n",
       "    .dataframe tbody tr th {\n",
       "        vertical-align: top;\n",
       "    }\n",
       "\n",
       "    .dataframe thead th {\n",
       "        text-align: right;\n",
       "    }\n",
       "</style>\n",
       "<table border=\"1\" class=\"dataframe\">\n",
       "  <thead>\n",
       "    <tr style=\"text-align: right;\">\n",
       "      <th></th>\n",
       "      <th>ModifiedOnBehalfByName</th>\n",
       "      <th>ModifiedOnBehalfByYomiName</th>\n",
       "      <th>CreatedOnBehalfByName</th>\n",
       "      <th>CreatedOnBehalfByYomiName</th>\n",
       "      <th>stl_AssistingOfficerIdName</th>\n",
       "      <th>OrganizationIdName</th>\n",
       "      <th>stl_BusinessUnitName</th>\n",
       "      <th>ModifiedByName</th>\n",
       "      <th>ModifiedByYomiName</th>\n",
       "      <th>stl_personsubtypeName</th>\n",
       "      <th>...</th>\n",
       "      <th>stl_PreferredLanguage</th>\n",
       "      <th>stl_Religion</th>\n",
       "      <th>stl_RequestedName</th>\n",
       "      <th>stl_SendToLibra</th>\n",
       "      <th>stl_Street</th>\n",
       "      <th>stl_Suffix</th>\n",
       "      <th>stl_Team</th>\n",
       "      <th>stl_title</th>\n",
       "      <th>stl_Town</th>\n",
       "      <th>stl_UserStatus</th>\n",
       "    </tr>\n",
       "  </thead>\n",
       "  <tbody>\n",
       "    <tr>\n",
       "      <th>0</th>\n",
       "      <td>None</td>\n",
       "      <td>None</td>\n",
       "      <td>None</td>\n",
       "      <td>None</td>\n",
       "      <td>None</td>\n",
       "      <td>POLCASE</td>\n",
       "      <td>None</td>\n",
       "      <td>lab\\PwDevCrmAdm lab\\PwDevCrmAdm</td>\n",
       "      <td>lab\\PwDevCrmAdm lab\\PwDevCrmAdm</td>\n",
       "      <td>None</td>\n",
       "      <td>...</td>\n",
       "      <td>None</td>\n",
       "      <td>None</td>\n",
       "      <td>None</td>\n",
       "      <td>False</td>\n",
       "      <td>None</td>\n",
       "      <td>None</td>\n",
       "      <td>None</td>\n",
       "      <td>None</td>\n",
       "      <td>None</td>\n",
       "      <td>None</td>\n",
       "    </tr>\n",
       "    <tr>\n",
       "      <th>1</th>\n",
       "      <td>None</td>\n",
       "      <td>None</td>\n",
       "      <td>None</td>\n",
       "      <td>None</td>\n",
       "      <td>None</td>\n",
       "      <td>POLCASE</td>\n",
       "      <td>None</td>\n",
       "      <td>lab\\PwDevCrmAdm lab\\PwDevCrmAdm</td>\n",
       "      <td>lab\\PwDevCrmAdm lab\\PwDevCrmAdm</td>\n",
       "      <td>None</td>\n",
       "      <td>...</td>\n",
       "      <td>None</td>\n",
       "      <td>None</td>\n",
       "      <td>None</td>\n",
       "      <td>False</td>\n",
       "      <td>None</td>\n",
       "      <td>None</td>\n",
       "      <td>None</td>\n",
       "      <td>None</td>\n",
       "      <td>None</td>\n",
       "      <td>None</td>\n",
       "    </tr>\n",
       "    <tr>\n",
       "      <th>2</th>\n",
       "      <td>None</td>\n",
       "      <td>None</td>\n",
       "      <td>None</td>\n",
       "      <td>None</td>\n",
       "      <td>None</td>\n",
       "      <td>POLCASE</td>\n",
       "      <td>None</td>\n",
       "      <td>lab\\PwDevCrmAdm lab\\PwDevCrmAdm</td>\n",
       "      <td>lab\\PwDevCrmAdm lab\\PwDevCrmAdm</td>\n",
       "      <td>None</td>\n",
       "      <td>...</td>\n",
       "      <td>None</td>\n",
       "      <td>None</td>\n",
       "      <td>None</td>\n",
       "      <td>False</td>\n",
       "      <td>None</td>\n",
       "      <td>None</td>\n",
       "      <td>None</td>\n",
       "      <td>None</td>\n",
       "      <td>None</td>\n",
       "      <td>None</td>\n",
       "    </tr>\n",
       "    <tr>\n",
       "      <th>3</th>\n",
       "      <td>None</td>\n",
       "      <td>None</td>\n",
       "      <td>None</td>\n",
       "      <td>None</td>\n",
       "      <td>None</td>\n",
       "      <td>POLCASE</td>\n",
       "      <td>None</td>\n",
       "      <td>lab\\PwDevCrmAdm lab\\PwDevCrmAdm</td>\n",
       "      <td>lab\\PwDevCrmAdm lab\\PwDevCrmAdm</td>\n",
       "      <td>None</td>\n",
       "      <td>...</td>\n",
       "      <td>None</td>\n",
       "      <td>None</td>\n",
       "      <td>None</td>\n",
       "      <td>False</td>\n",
       "      <td>None</td>\n",
       "      <td>None</td>\n",
       "      <td>None</td>\n",
       "      <td>None</td>\n",
       "      <td>None</td>\n",
       "      <td>None</td>\n",
       "    </tr>\n",
       "    <tr>\n",
       "      <th>4</th>\n",
       "      <td>None</td>\n",
       "      <td>None</td>\n",
       "      <td>None</td>\n",
       "      <td>None</td>\n",
       "      <td>None</td>\n",
       "      <td>POLCASE</td>\n",
       "      <td>None</td>\n",
       "      <td>Kevin Griffiths</td>\n",
       "      <td>Kevin Griffiths</td>\n",
       "      <td>None</td>\n",
       "      <td>...</td>\n",
       "      <td>None</td>\n",
       "      <td>None</td>\n",
       "      <td>None</td>\n",
       "      <td>False</td>\n",
       "      <td>None</td>\n",
       "      <td>None</td>\n",
       "      <td>None</td>\n",
       "      <td>Mr</td>\n",
       "      <td>None</td>\n",
       "      <td>None</td>\n",
       "    </tr>\n",
       "  </tbody>\n",
       "</table>\n",
       "<p>5 rows × 85 columns</p>\n",
       "</div>"
      ],
      "text/plain": [
       "  ModifiedOnBehalfByName ModifiedOnBehalfByYomiName CreatedOnBehalfByName  \\\n",
       "0                   None                       None                  None   \n",
       "1                   None                       None                  None   \n",
       "2                   None                       None                  None   \n",
       "3                   None                       None                  None   \n",
       "4                   None                       None                  None   \n",
       "\n",
       "  CreatedOnBehalfByYomiName stl_AssistingOfficerIdName OrganizationIdName  \\\n",
       "0                      None                       None            POLCASE   \n",
       "1                      None                       None            POLCASE   \n",
       "2                      None                       None            POLCASE   \n",
       "3                      None                       None            POLCASE   \n",
       "4                      None                       None            POLCASE   \n",
       "\n",
       "  stl_BusinessUnitName                   ModifiedByName  \\\n",
       "0                 None  lab\\PwDevCrmAdm lab\\PwDevCrmAdm   \n",
       "1                 None  lab\\PwDevCrmAdm lab\\PwDevCrmAdm   \n",
       "2                 None  lab\\PwDevCrmAdm lab\\PwDevCrmAdm   \n",
       "3                 None  lab\\PwDevCrmAdm lab\\PwDevCrmAdm   \n",
       "4                 None                  Kevin Griffiths   \n",
       "\n",
       "                ModifiedByYomiName stl_personsubtypeName  ...  \\\n",
       "0  lab\\PwDevCrmAdm lab\\PwDevCrmAdm                  None  ...   \n",
       "1  lab\\PwDevCrmAdm lab\\PwDevCrmAdm                  None  ...   \n",
       "2  lab\\PwDevCrmAdm lab\\PwDevCrmAdm                  None  ...   \n",
       "3  lab\\PwDevCrmAdm lab\\PwDevCrmAdm                  None  ...   \n",
       "4                  Kevin Griffiths                  None  ...   \n",
       "\n",
       "  stl_PreferredLanguage stl_Religion stl_RequestedName stl_SendToLibra  \\\n",
       "0                  None         None              None           False   \n",
       "1                  None         None              None           False   \n",
       "2                  None         None              None           False   \n",
       "3                  None         None              None           False   \n",
       "4                  None         None              None           False   \n",
       "\n",
       "  stl_Street stl_Suffix stl_Team stl_title stl_Town stl_UserStatus  \n",
       "0       None       None     None      None     None           None  \n",
       "1       None       None     None      None     None           None  \n",
       "2       None       None     None      None     None           None  \n",
       "3       None       None     None      None     None           None  \n",
       "4       None       None     None        Mr     None           None  \n",
       "\n",
       "[5 rows x 85 columns]"
      ]
     },
     "execution_count": 16,
     "metadata": {},
     "output_type": "execute_result"
    }
   ],
   "source": [
    "import pandas as pd\n",
    "\n",
    "sql_query = \"SELECT TOP (1000) * FROM [POLCASE_MSCRM].[dbo].[stl_person] where stl_familyname like '%Smith%'\" \n",
    "\n",
    "with engine.connect() as conn, conn.begin():\n",
    "    data = pd.read_sql_query(sql_query, conn)\n",
    "\n",
    "data\n",
    "    \n",
    "#print (type(data))\n",
    "#data \n",
    "\n",
    "#print(data.info())\n",
    "#print (data.index)\n"
   ]
  },
  {
   "cell_type": "markdown",
   "id": "31d20be0-0ec8-45eb-b059-8ccf234441d7",
   "metadata": {},
   "source": [
    "> pandas will by default only show the first 20 columns, and 60 rows. This can be changed:"
   ]
  },
  {
   "cell_type": "code",
   "execution_count": 18,
   "id": "52a00cee-b14e-48e0-98a3-dc10a5f410b3",
   "metadata": {},
   "outputs": [
    {
     "data": {
      "text/plain": [
       "100"
      ]
     },
     "execution_count": 18,
     "metadata": {},
     "output_type": "execute_result"
    }
   ],
   "source": [
    "import pandas as pd\n",
    "#pd.get_option('display.max_columns')\n",
    "\n",
    "pd.set_option('display.max_columns', 100)\n",
    "pd.get_option('display.max_columns')\n"
   ]
  },
  {
   "cell_type": "markdown",
   "id": "802c294e-88e0-4300-a0c4-23da2a234732",
   "metadata": {},
   "source": [
    "#### create a function"
   ]
  },
  {
   "cell_type": "code",
   "execution_count": 19,
   "id": "c7878919-b3f5-43f7-ae1b-d4835f2101cb",
   "metadata": {},
   "outputs": [],
   "source": [
    "\n",
    "def runsql(sql_string):\n",
    "    import urllib\n",
    "    from sqlalchemy import create_engine\n",
    "    import pandas as pd\n",
    "    \n",
    "    params =  'DRIVER={SQL Server};' \\\n",
    "          'SERVER=V-PW-DEVDB05.lab.stl.local\\CRM2016;' \\\n",
    "          'DATABASE=POLCASE_MSCRM;' \\\n",
    "          'Trusted_Connection=yes;'\n",
    "\n",
    "    params = urllib.parse.quote_plus(params)\n",
    "    conn_str = 'mssql+pyodbc:///?odbc_connect={}'.format(params)\n",
    "\n",
    "    engine = create_engine(conn_str)\n",
    "    with engine.connect() as conn:\n",
    "        df = pd.read_sql_query(sql_string, conn)\n",
    "        \n",
    "    #left_aligned_df = df.style.set_properties(**{'text-align': 'left'}).set_table_styles([ dict(selector='th', props=[('text-align', 'left')] ) ])\n",
    "    #return left_aligned_df\n",
    "    return df\n"
   ]
  },
  {
   "cell_type": "markdown",
   "id": "a2fa9005-0487-4ec2-9d35-382a41c96ec8",
   "metadata": {},
   "source": [
    "#### execute the function and use multiline string"
   ]
  },
  {
   "cell_type": "code",
   "execution_count": 20,
   "id": "e85505cb-416d-47fe-814e-b4ef5d0f4aa9",
   "metadata": {},
   "outputs": [
    {
     "data": {
      "text/html": [
       "<div>\n",
       "<style scoped>\n",
       "    .dataframe tbody tr th:only-of-type {\n",
       "        vertical-align: middle;\n",
       "    }\n",
       "\n",
       "    .dataframe tbody tr th {\n",
       "        vertical-align: top;\n",
       "    }\n",
       "\n",
       "    .dataframe thead th {\n",
       "        text-align: right;\n",
       "    }\n",
       "</style>\n",
       "<table border=\"1\" class=\"dataframe\">\n",
       "  <thead>\n",
       "    <tr style=\"text-align: right;\">\n",
       "      <th></th>\n",
       "      <th>stl_name</th>\n",
       "      <th>stl_FamilyName</th>\n",
       "      <th>stl_GivenName1</th>\n",
       "    </tr>\n",
       "  </thead>\n",
       "  <tbody>\n",
       "    <tr>\n",
       "      <th>0</th>\n",
       "      <td>Beat K2Q1 -  K2 Smithills North</td>\n",
       "      <td>Smithills North</td>\n",
       "      <td>K2</td>\n",
       "    </tr>\n",
       "    <tr>\n",
       "      <th>1</th>\n",
       "      <td>Beat K2Q2 -  K2 Smithills South</td>\n",
       "      <td>Smithills South</td>\n",
       "      <td>K2</td>\n",
       "    </tr>\n",
       "    <tr>\n",
       "      <th>2</th>\n",
       "      <td>Beat P2R6 -  P2 Smithybridge</td>\n",
       "      <td>Smithybridge</td>\n",
       "      <td>P2</td>\n",
       "    </tr>\n",
       "    <tr>\n",
       "      <th>3</th>\n",
       "      <td>Officer Officer Record: Smith AD</td>\n",
       "      <td>Smith AD</td>\n",
       "      <td>Steve</td>\n",
       "    </tr>\n",
       "    <tr>\n",
       "      <th>4</th>\n",
       "      <td>Person 23/12/2022 09:24:18SMITH</td>\n",
       "      <td>SMITH</td>\n",
       "      <td>Fred</td>\n",
       "    </tr>\n",
       "  </tbody>\n",
       "</table>\n",
       "</div>"
      ],
      "text/plain": [
       "                           stl_name   stl_FamilyName stl_GivenName1\n",
       "0   Beat K2Q1 -  K2 Smithills North  Smithills North             K2\n",
       "1   Beat K2Q2 -  K2 Smithills South  Smithills South             K2\n",
       "2      Beat P2R6 -  P2 Smithybridge     Smithybridge             P2\n",
       "3  Officer Officer Record: Smith AD         Smith AD          Steve\n",
       "4   Person 23/12/2022 09:24:18SMITH            SMITH           Fred"
      ]
     },
     "execution_count": 20,
     "metadata": {},
     "output_type": "execute_result"
    }
   ],
   "source": [
    "\n",
    "paramtext = \"\"\"SELECT TOP (1000) \n",
    "                stl_name, stl_FamilyName, stl_GivenName1 \n",
    "                FROM [POLCASE_MSCRM].[dbo].[stl_person] \n",
    "                WHERE stl_familyname like '%Smith%'\"\"\"\n",
    "\n",
    "runsql(paramtext)\n",
    "#print (type(x))"
   ]
  },
  {
   "cell_type": "markdown",
   "id": "87171c1b-c462-485a-9a18-45a6d863f2bd",
   "metadata": {
    "tags": []
   },
   "source": [
    "## sql magic\n",
    "\n",
    "> also uses sqlalchemy (but not comaptible with sqlalchemy 2)\n",
    "\n",
    "https://github.com/catherinedevlin/ipython-sql\n"
   ]
  },
  {
   "cell_type": "code",
   "execution_count": null,
   "id": "d00f44ea-3787-48b9-898f-69975afdd718",
   "metadata": {},
   "outputs": [],
   "source": []
  },
  {
   "cell_type": "code",
   "execution_count": 21,
   "id": "4d29a0ac-515a-47ab-99a7-8c011631e1a5",
   "metadata": {
    "tags": []
   },
   "outputs": [],
   "source": [
    "#!py -m pip install ipython-sql\n",
    "\n",
    "%load_ext sql"
   ]
  },
  {
   "cell_type": "code",
   "execution_count": 22,
   "id": "804bacb4-57f8-411d-b2e0-61ada4c017ba",
   "metadata": {
    "tags": []
   },
   "outputs": [],
   "source": [
    "\n",
    "#server = 'V-PW-DEVDB05.lab.stl.local\\CRM2016'\n",
    "server = 'V-PW-DEV08-DB01.lab.stl.local\\PWDEV08'\n",
    "database = 'POLCASE_MSCRM'\n",
    "%sql mssql+pyodbc:///?odbc_connect=DRIVER%3D%7BSQL+Server%7D%3BSERVER%3D{server}%3BDATABASE%3D{database}%3BTrusted_Connection%3Dyes%3B"
   ]
  },
  {
   "cell_type": "code",
   "execution_count": 26,
   "id": "da94c3f3-41e2-422a-a51c-03e0685332f8",
   "metadata": {},
   "outputs": [
    {
     "name": "stdout",
     "output_type": "stream",
     "text": [
      " * mssql+pyodbc:///?odbc_connect=DRIVER%3D%7BSQL+Server%7D%3BSERVER%3DV-PW-DEV08-DB01.lab.stl.local%5CPWDEV08%3BDATABASE%3DPOLCASE_MSCRM%3BTrusted_Connection%3Dyes%3B\n",
      "Done.\n",
      "<class 'sql.run.ResultSet'>\n",
      "<class 'pandas.core.frame.DataFrame'>\n"
     ]
    }
   ],
   "source": [
    "\n",
    "result = %sql SELECT top 10 stl_libraryvalueid, stl_name, stl_description, stl_value, statecode, statuscode FROM [PolCase_MSCRM].[dbo].[stl_libraryvalue] WHERE stl_identifier = '110002342'\n",
    " \n",
    "result\n",
    "print (type(result))\n",
    "\n",
    "df = result.DataFrame()\n",
    "df\n",
    "print (type(df))"
   ]
  },
  {
   "cell_type": "markdown",
   "id": "3b27d85a-2d83-4a20-9bd7-6985fd67a999",
   "metadata": {},
   "source": [
    "#### use cell magic"
   ]
  },
  {
   "cell_type": "code",
   "execution_count": 28,
   "id": "3e4f1c20-62c7-4631-b0b3-8b9b8c8a5d34",
   "metadata": {},
   "outputs": [],
   "source": [
    "id = '110002342'"
   ]
  },
  {
   "cell_type": "code",
   "execution_count": 29,
   "id": "6ea96271-2475-4043-b1cc-79e9e766974e",
   "metadata": {},
   "outputs": [
    {
     "name": "stdout",
     "output_type": "stream",
     "text": [
      " * mssql+pyodbc:///?odbc_connect=DRIVER%3D%7BSQL+Server%7D%3BSERVER%3DV-PW-DEV08-DB01.lab.stl.local%5CPWDEV08%3BDATABASE%3DPOLCASE_MSCRM%3BTrusted_Connection%3Dyes%3B\n",
      "Done.\n"
     ]
    },
    {
     "data": {
      "text/html": [
       "<table>\n",
       "    <tr>\n",
       "        <th>stl_libraryvalueid</th>\n",
       "        <th>stl_name</th>\n",
       "        <th>stl_description</th>\n",
       "        <th>stl_value</th>\n",
       "        <th>statecode</th>\n",
       "        <th>statuscode</th>\n",
       "    </tr>\n",
       "    <tr>\n",
       "        <td>559FB922-606D-45B6-A2CF-001DCF011430</td>\n",
       "        <td>MO Sub-Category Brickwork - Attack Method Premises - Trademarks</td>\n",
       "        <td>Brickwork</td>\n",
       "        <td>Brickwork</td>\n",
       "        <td>0</td>\n",
       "        <td>1</td>\n",
       "    </tr>\n",
       "    <tr>\n",
       "        <td>7A5F7619-E708-4027-B9E9-003C440F9F32</td>\n",
       "        <td>MO Sub-Category Shutters - Attack Method Premises - Trademarks</td>\n",
       "        <td>Shutters</td>\n",
       "        <td>Shutters</td>\n",
       "        <td>0</td>\n",
       "        <td>1</td>\n",
       "    </tr>\n",
       "    <tr>\n",
       "        <td>4E2BB2A4-97AB-427C-AA17-003FB49222D8</td>\n",
       "        <td>MO Sub-Category Kiosk - Telephone - Location</td>\n",
       "        <td>Kiosk</td>\n",
       "        <td>Kiosk</td>\n",
       "        <td>0</td>\n",
       "        <td>1</td>\n",
       "    </tr>\n",
       "    <tr>\n",
       "        <td>5C189A1E-470B-48A1-A52F-0041C11782FE</td>\n",
       "        <td>MO Sub-Category Motor Cyclist - Cyclist - Victim</td>\n",
       "        <td>Motor Cyclist</td>\n",
       "        <td>Motor Cyclist</td>\n",
       "        <td>0</td>\n",
       "        <td>1</td>\n",
       "    </tr>\n",
       "    <tr>\n",
       "        <td>102FBCCB-3070-E611-80D3-005056A255B2</td>\n",
       "        <td>MO Sub-Category Animal - Accompanied By - Trademarks</td>\n",
       "        <td>Animal</td>\n",
       "        <td>Animal</td>\n",
       "        <td>0</td>\n",
       "        <td>1</td>\n",
       "    </tr>\n",
       "    <tr>\n",
       "        <td>0A9BE233-3170-E611-80D3-005056A255B2</td>\n",
       "        <td>MO Sub-Category Black - Accompanied By - Trademarks</td>\n",
       "        <td>Black</td>\n",
       "        <td>Black</td>\n",
       "        <td>0</td>\n",
       "        <td>1</td>\n",
       "    </tr>\n",
       "    <tr>\n",
       "        <td>89635495-3170-E611-80D3-005056A255B2</td>\n",
       "        <td>MO Sub-Category Child - Abandoned - Trademarks</td>\n",
       "        <td>Child</td>\n",
       "        <td>Child</td>\n",
       "        <td>0</td>\n",
       "        <td>1</td>\n",
       "    </tr>\n",
       "    <tr>\n",
       "        <td>55D5B5F1-3270-E611-80D3-005056A255B2</td>\n",
       "        <td>MO Sub-Category Conveyance - Abandoned - Trademarks</td>\n",
       "        <td>Conveyance</td>\n",
       "        <td>Conveyance</td>\n",
       "        <td>0</td>\n",
       "        <td>1</td>\n",
       "    </tr>\n",
       "    <tr>\n",
       "        <td>93451F4F-3370-E611-80D3-005056A255B2</td>\n",
       "        <td>MO Sub-Category Depot - Bus - Location</td>\n",
       "        <td>Depot</td>\n",
       "        <td>Depot</td>\n",
       "        <td>0</td>\n",
       "        <td>1</td>\n",
       "    </tr>\n",
       "    <tr>\n",
       "        <td>8D2F3D7B-3370-E611-80D3-005056A255B2</td>\n",
       "        <td>MO Sub-Category Station - Bus - Location</td>\n",
       "        <td>Station</td>\n",
       "        <td>Station</td>\n",
       "        <td>0</td>\n",
       "        <td>1</td>\n",
       "    </tr>\n",
       "</table>"
      ],
      "text/plain": [
       "[('559FB922-606D-45B6-A2CF-001DCF011430', 'MO Sub-Category Brickwork - Attack Method Premises - Trademarks', 'Brickwork', 'Brickwork', 0, 1),\n",
       " ('7A5F7619-E708-4027-B9E9-003C440F9F32', 'MO Sub-Category Shutters - Attack Method Premises - Trademarks', 'Shutters', 'Shutters', 0, 1),\n",
       " ('4E2BB2A4-97AB-427C-AA17-003FB49222D8', 'MO Sub-Category Kiosk - Telephone - Location', 'Kiosk', 'Kiosk', 0, 1),\n",
       " ('5C189A1E-470B-48A1-A52F-0041C11782FE', 'MO Sub-Category Motor Cyclist - Cyclist - Victim', 'Motor Cyclist', 'Motor Cyclist', 0, 1),\n",
       " ('102FBCCB-3070-E611-80D3-005056A255B2', 'MO Sub-Category Animal - Accompanied By - Trademarks', 'Animal', 'Animal', 0, 1),\n",
       " ('0A9BE233-3170-E611-80D3-005056A255B2', 'MO Sub-Category Black - Accompanied By - Trademarks', 'Black', 'Black', 0, 1),\n",
       " ('89635495-3170-E611-80D3-005056A255B2', 'MO Sub-Category Child - Abandoned - Trademarks', 'Child', 'Child', 0, 1),\n",
       " ('55D5B5F1-3270-E611-80D3-005056A255B2', 'MO Sub-Category Conveyance - Abandoned - Trademarks', 'Conveyance', 'Conveyance', 0, 1),\n",
       " ('93451F4F-3370-E611-80D3-005056A255B2', 'MO Sub-Category Depot - Bus - Location', 'Depot', 'Depot', 0, 1),\n",
       " ('8D2F3D7B-3370-E611-80D3-005056A255B2', 'MO Sub-Category Station - Bus - Location', 'Station', 'Station', 0, 1)]"
      ]
     },
     "execution_count": 29,
     "metadata": {},
     "output_type": "execute_result"
    }
   ],
   "source": [
    "%%sql\n",
    "\n",
    " SELECT top 10 \n",
    "        stl_libraryvalueid, stl_name, stl_description, stl_value, \n",
    "        statecode, statuscode \n",
    "  FROM [PolCase_MSCRM].[dbo].[stl_libraryvalue] \n",
    "  WHERE stl_identifier = :id\n",
    "    "
   ]
  },
  {
   "cell_type": "code",
   "execution_count": 30,
   "id": "323ca878-a38b-441f-bc5f-2e6c1055dd24",
   "metadata": {},
   "outputs": [
    {
     "name": "stdout",
     "output_type": "stream",
     "text": [
      " * mssql+pyodbc:///?odbc_connect=DRIVER%3D%7BSQL+Server%7D%3BSERVER%3DV-PW-DEV08-DB01.lab.stl.local%5CPWDEV08%3BDATABASE%3DPOLCASE_MSCRM%3BTrusted_Connection%3Dyes%3B\n",
      "Done.\n"
     ]
    },
    {
     "data": {
      "text/html": [
       "<table>\n",
       "    <tr>\n",
       "        <th>stl_ethnicappearance</th>\n",
       "        <th>stl_ethnicappearancename</th>\n",
       "    </tr>\n",
       "    <tr>\n",
       "        <td>0D3F44BF-B941-E111-AD9F-005056AC006E</td>\n",
       "        <td>ETHCAPP-1</td>\n",
       "    </tr>\n",
       "    <tr>\n",
       "        <td>0D3F44BF-B941-E111-AD9F-005056AC006E</td>\n",
       "        <td>ETHCAPP-1</td>\n",
       "    </tr>\n",
       "    <tr>\n",
       "        <td>0D3F44BF-B941-E111-AD9F-005056AC006E</td>\n",
       "        <td>ETHCAPP-1</td>\n",
       "    </tr>\n",
       "    <tr>\n",
       "        <td>0D3F44BF-B941-E111-AD9F-005056AC006E</td>\n",
       "        <td>ETHCAPP-1</td>\n",
       "    </tr>\n",
       "    <tr>\n",
       "        <td>0D3F44BF-B941-E111-AD9F-005056AC006E</td>\n",
       "        <td>ETHCAPP-1</td>\n",
       "    </tr>\n",
       "    <tr>\n",
       "        <td>0D3F44BF-B941-E111-AD9F-005056AC006E</td>\n",
       "        <td>ETHCAPP-1</td>\n",
       "    </tr>\n",
       "    <tr>\n",
       "        <td>0D3F44BF-B941-E111-AD9F-005056AC006E</td>\n",
       "        <td>ETHCAPP-1</td>\n",
       "    </tr>\n",
       "</table>"
      ],
      "text/plain": [
       "[('0D3F44BF-B941-E111-AD9F-005056AC006E', 'ETHCAPP-1'),\n",
       " ('0D3F44BF-B941-E111-AD9F-005056AC006E', 'ETHCAPP-1'),\n",
       " ('0D3F44BF-B941-E111-AD9F-005056AC006E', 'ETHCAPP-1'),\n",
       " ('0D3F44BF-B941-E111-AD9F-005056AC006E', 'ETHCAPP-1'),\n",
       " ('0D3F44BF-B941-E111-AD9F-005056AC006E', 'ETHCAPP-1'),\n",
       " ('0D3F44BF-B941-E111-AD9F-005056AC006E', 'ETHCAPP-1'),\n",
       " ('0D3F44BF-B941-E111-AD9F-005056AC006E', 'ETHCAPP-1')]"
      ]
     },
     "execution_count": 30,
     "metadata": {},
     "output_type": "execute_result"
    }
   ],
   "source": [
    "\n",
    "%%sql SELECT TOP (20) \n",
    "             [stl_ethnicappearance]\n",
    "            ,[stl_ethnicappearancename]\n",
    "        FROM [PolCase_MSCRM].[dbo].[stl_person] WITH(NOLOCK)\n",
    "        WHERE [stl_ethnicappearance] IS NOT NULL;\n"
   ]
  },
  {
   "cell_type": "markdown",
   "id": "0d9bb3a7-0ccd-49e6-95e2-e6195c8f44b8",
   "metadata": {},
   "source": [
    "> pipe to a variable"
   ]
  },
  {
   "cell_type": "code",
   "execution_count": 31,
   "id": "a927bec0-dc13-4273-b640-8b9dbab167a8",
   "metadata": {},
   "outputs": [
    {
     "name": "stdout",
     "output_type": "stream",
     "text": [
      " * mssql+pyodbc:///?odbc_connect=DRIVER%3D%7BSQL+Server%7D%3BSERVER%3DV-PW-DEV08-DB01.lab.stl.local%5CPWDEV08%3BDATABASE%3DPOLCASE_MSCRM%3BTrusted_Connection%3Dyes%3B\n",
      "Done.\n",
      "Returning data to local variable result\n"
     ]
    }
   ],
   "source": [
    "%%sql result <<\n",
    "\n",
    " SELECT top 10 \n",
    "        stl_libraryvalueid, stl_name, stl_description, stl_value, \n",
    "        statecode, statuscode \n",
    "  FROM [PolCase_MSCRM].[dbo].[stl_libraryvalue] \n",
    "  WHERE stl_identifier = :id\n",
    "    "
   ]
  },
  {
   "cell_type": "code",
   "execution_count": 32,
   "id": "286f1834-13a5-42bc-be7c-a636a3c30946",
   "metadata": {},
   "outputs": [
    {
     "data": {
      "text/html": [
       "<table>\n",
       "    <tr>\n",
       "        <th>stl_libraryvalueid</th>\n",
       "        <th>stl_name</th>\n",
       "        <th>stl_description</th>\n",
       "        <th>stl_value</th>\n",
       "        <th>statecode</th>\n",
       "        <th>statuscode</th>\n",
       "    </tr>\n",
       "    <tr>\n",
       "        <td>559FB922-606D-45B6-A2CF-001DCF011430</td>\n",
       "        <td>MO Sub-Category Brickwork - Attack Method Premises - Trademarks</td>\n",
       "        <td>Brickwork</td>\n",
       "        <td>Brickwork</td>\n",
       "        <td>0</td>\n",
       "        <td>1</td>\n",
       "    </tr>\n",
       "    <tr>\n",
       "        <td>7A5F7619-E708-4027-B9E9-003C440F9F32</td>\n",
       "        <td>MO Sub-Category Shutters - Attack Method Premises - Trademarks</td>\n",
       "        <td>Shutters</td>\n",
       "        <td>Shutters</td>\n",
       "        <td>0</td>\n",
       "        <td>1</td>\n",
       "    </tr>\n",
       "    <tr>\n",
       "        <td>4E2BB2A4-97AB-427C-AA17-003FB49222D8</td>\n",
       "        <td>MO Sub-Category Kiosk - Telephone - Location</td>\n",
       "        <td>Kiosk</td>\n",
       "        <td>Kiosk</td>\n",
       "        <td>0</td>\n",
       "        <td>1</td>\n",
       "    </tr>\n",
       "    <tr>\n",
       "        <td>5C189A1E-470B-48A1-A52F-0041C11782FE</td>\n",
       "        <td>MO Sub-Category Motor Cyclist - Cyclist - Victim</td>\n",
       "        <td>Motor Cyclist</td>\n",
       "        <td>Motor Cyclist</td>\n",
       "        <td>0</td>\n",
       "        <td>1</td>\n",
       "    </tr>\n",
       "    <tr>\n",
       "        <td>102FBCCB-3070-E611-80D3-005056A255B2</td>\n",
       "        <td>MO Sub-Category Animal - Accompanied By - Trademarks</td>\n",
       "        <td>Animal</td>\n",
       "        <td>Animal</td>\n",
       "        <td>0</td>\n",
       "        <td>1</td>\n",
       "    </tr>\n",
       "    <tr>\n",
       "        <td>0A9BE233-3170-E611-80D3-005056A255B2</td>\n",
       "        <td>MO Sub-Category Black - Accompanied By - Trademarks</td>\n",
       "        <td>Black</td>\n",
       "        <td>Black</td>\n",
       "        <td>0</td>\n",
       "        <td>1</td>\n",
       "    </tr>\n",
       "    <tr>\n",
       "        <td>89635495-3170-E611-80D3-005056A255B2</td>\n",
       "        <td>MO Sub-Category Child - Abandoned - Trademarks</td>\n",
       "        <td>Child</td>\n",
       "        <td>Child</td>\n",
       "        <td>0</td>\n",
       "        <td>1</td>\n",
       "    </tr>\n",
       "    <tr>\n",
       "        <td>55D5B5F1-3270-E611-80D3-005056A255B2</td>\n",
       "        <td>MO Sub-Category Conveyance - Abandoned - Trademarks</td>\n",
       "        <td>Conveyance</td>\n",
       "        <td>Conveyance</td>\n",
       "        <td>0</td>\n",
       "        <td>1</td>\n",
       "    </tr>\n",
       "    <tr>\n",
       "        <td>93451F4F-3370-E611-80D3-005056A255B2</td>\n",
       "        <td>MO Sub-Category Depot - Bus - Location</td>\n",
       "        <td>Depot</td>\n",
       "        <td>Depot</td>\n",
       "        <td>0</td>\n",
       "        <td>1</td>\n",
       "    </tr>\n",
       "    <tr>\n",
       "        <td>8D2F3D7B-3370-E611-80D3-005056A255B2</td>\n",
       "        <td>MO Sub-Category Station - Bus - Location</td>\n",
       "        <td>Station</td>\n",
       "        <td>Station</td>\n",
       "        <td>0</td>\n",
       "        <td>1</td>\n",
       "    </tr>\n",
       "</table>"
      ],
      "text/plain": [
       "[('559FB922-606D-45B6-A2CF-001DCF011430', 'MO Sub-Category Brickwork - Attack Method Premises - Trademarks', 'Brickwork', 'Brickwork', 0, 1),\n",
       " ('7A5F7619-E708-4027-B9E9-003C440F9F32', 'MO Sub-Category Shutters - Attack Method Premises - Trademarks', 'Shutters', 'Shutters', 0, 1),\n",
       " ('4E2BB2A4-97AB-427C-AA17-003FB49222D8', 'MO Sub-Category Kiosk - Telephone - Location', 'Kiosk', 'Kiosk', 0, 1),\n",
       " ('5C189A1E-470B-48A1-A52F-0041C11782FE', 'MO Sub-Category Motor Cyclist - Cyclist - Victim', 'Motor Cyclist', 'Motor Cyclist', 0, 1),\n",
       " ('102FBCCB-3070-E611-80D3-005056A255B2', 'MO Sub-Category Animal - Accompanied By - Trademarks', 'Animal', 'Animal', 0, 1),\n",
       " ('0A9BE233-3170-E611-80D3-005056A255B2', 'MO Sub-Category Black - Accompanied By - Trademarks', 'Black', 'Black', 0, 1),\n",
       " ('89635495-3170-E611-80D3-005056A255B2', 'MO Sub-Category Child - Abandoned - Trademarks', 'Child', 'Child', 0, 1),\n",
       " ('55D5B5F1-3270-E611-80D3-005056A255B2', 'MO Sub-Category Conveyance - Abandoned - Trademarks', 'Conveyance', 'Conveyance', 0, 1),\n",
       " ('93451F4F-3370-E611-80D3-005056A255B2', 'MO Sub-Category Depot - Bus - Location', 'Depot', 'Depot', 0, 1),\n",
       " ('8D2F3D7B-3370-E611-80D3-005056A255B2', 'MO Sub-Category Station - Bus - Location', 'Station', 'Station', 0, 1)]"
      ]
     },
     "execution_count": 32,
     "metadata": {},
     "output_type": "execute_result"
    }
   ],
   "source": [
    "result\n",
    "#print (type(result))\n",
    "#df = result.DataFrame()\n",
    "#df"
   ]
  }
 ],
 "metadata": {
  "kernelspec": {
   "display_name": "Python 3 (ipykernel)",
   "language": "python",
   "name": "python3"
  },
  "language_info": {
   "codemirror_mode": {
    "name": "ipython",
    "version": 3
   },
   "file_extension": ".py",
   "mimetype": "text/x-python",
   "name": "python",
   "nbconvert_exporter": "python",
   "pygments_lexer": "ipython3",
   "version": "3.11.1"
  }
 },
 "nbformat": 4,
 "nbformat_minor": 5
}
